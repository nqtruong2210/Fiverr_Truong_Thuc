{
 "cells": [
  {
   "cell_type": "code",
   "execution_count": 3,
   "metadata": {},
   "outputs": [
    {
     "name": "stdout",
     "output_type": "stream",
     "text": [
      "Đã đổi tên file thành công.\n"
     ]
    }
   ],
   "source": [
    "import os\n",
    "\n",
    "folder_path = '/'  # Thay đổi đường dẫn tới thư mục của bạn\n",
    "extension_to_change = 'png'\n",
    "\n",
    "# Lấy danh sách các file trong thư mục\n",
    "files = os.listdir(folder_path)\n",
    "\n",
    "# Lọc ra các file có đuôi cần thay đổi\n",
    "files_to_rename = [file for file in files if file.endswith(f'.{extension_to_change}')]\n",
    "\n",
    "# Đổi tên file\n",
    "for index, old_name in enumerate(files_to_rename, start=1):\n",
    "    new_name = f\"category-{index}.{extension_to_change}\"\n",
    "    old_path = os.path.join(folder_path, old_name)\n",
    "    new_path = os.path.join(folder_path, new_name)\n",
    "    os.rename(old_path, new_path)\n",
    "\n",
    "print(\"Đã đổi tên file thành công.\")\n"
   ]
  }
 ],
 "metadata": {
  "kernelspec": {
   "display_name": "Python 3",
   "language": "python",
   "name": "python3"
  },
  "language_info": {
   "codemirror_mode": {
    "name": "ipython",
    "version": 3
   },
   "file_extension": ".py",
   "mimetype": "text/x-python",
   "name": "python",
   "nbconvert_exporter": "python",
   "pygments_lexer": "ipython3",
   "version": "3.11.5"
  }
 },
 "nbformat": 4,
 "nbformat_minor": 2
}
